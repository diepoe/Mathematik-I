{
 "cells": [
  {
   "cell_type": "markdown",
   "id": "ff85b76e7c261a54",
   "metadata": {},
   "source": [
    "# Jupyter Notebook zur Erklärung mathematischer Matrizen\n",
    "Dieses Notebook führt grundlegende Konzepte zu Matrizen, deren Eigenschaften und Operationen ein. \n",
    "Es werden verschiedene Begriffe erklärt und mit Beispielen in Python umgesetzt."
   ]
  },
  {
   "cell_type": "markdown",
   "id": "31086ddfc297e01a",
   "metadata": {},
   "source": [
    "## 1. Einführung in Mathematische Matrizen\n",
    "Eine Matrix ist ein rechteckiges Array von Zahlen, das aus Zeilen und Spalten besteht.\n",
    "Jede Zahl in einer Matrix wird als \"Element\" oder \"Koeffizient\" bezeichnet."
   ]
  },
  {
   "cell_type": "code",
   "execution_count": 2,
   "id": "6387b298729a0302",
   "metadata": {
    "ExecuteTime": {
     "end_time": "2024-10-22T21:26:20.733849Z",
     "start_time": "2024-10-22T21:26:20.624070Z"
    }
   },
   "outputs": [
    {
     "name": "stdout",
     "output_type": "stream",
     "text": [
      "Beispielmatrix:\n",
      "[[1 2 3]\n",
      " [4 5 6]\n",
      " [7 8 9]]\n"
     ]
    }
   ],
   "source": [
    "import numpy as np\n",
    "\n",
    "# Beispielmatrix\n",
    "matrix = np.array([[1, 2, 3], [4, 5, 6], [7, 8, 9]])\n",
    "\n",
    "# Matrix anzeigen\n",
    "print(\"Beispielmatrix:\")\n",
    "print(matrix)"
   ]
  },
  {
   "cell_type": "markdown",
   "id": "f700fcc8fa723cd3",
   "metadata": {},
   "source": [
    "### Begriffe:\n",
    "- **Matrix**: Ein rechteckiges Anordnung von Zahlen in Zeilen und Spalten.\n",
    "- **Zeile**: Eine horizontale Reihe von Elementen in der Matrix.\n",
    "- **Spalte**: Eine vertikale Reihe von Elementen in der Matrix.\n",
    "- **Element (Koeffizient)**: Ein einzelner Eintrag in der Matrix.\n",
    "\n",
    "Die oben gezeigte Matrix hat 3 Zeilen und 3 Spalten. Jedes Element ist eine Zahl."
   ]
  },
  {
   "cell_type": "code",
   "execution_count": 3,
   "id": "7d10fe392e43ca6",
   "metadata": {},
   "outputs": [
    {
     "name": "stdout",
     "output_type": "stream",
     "text": [
      "Größe der Matrix: 3 Zeilen und 3 Spalten\n",
      "Erste Zeile: [1 2 3]\n",
      "Erste Spalte: [1 4 7]\n",
      "Erstes Element: 1\n"
     ]
    }
   ],
   "source": [
    "# Die Anzahl der Zeilen und Spalten einer Matrix wird als \"Größe\" der Matrix bezeichnet.\n",
    "print(\"Größe der Matrix:\", matrix.shape[0], \"Zeilen und\", matrix.shape[1], \"Spalten\")\n",
    "\n",
    "# Wir können auch auf bestimmte Zeilen, Spalten oder Elemente zugreifen:\n",
    "print(\"Erste Zeile:\", matrix[0])\n",
    "print(\"Erste Spalte:\", matrix[:, 0])\n",
    "print(\"Erstes Element:\", matrix[0, 0])"
   ]
  },
  {
   "cell_type": "markdown",
   "id": "c952bf3eab22643c",
   "metadata": {},
   "source": [
    "## 2. Eigenschaften von Matrizen\n",
    "Matrizen haben verschiedene Eigenschaften, die ihre Struktur und ihr Verhalten beschreiben.\n",
    "Dazu gehören Symmetrie, Rang, Determinante und Eigenwerte/Eigenvektoren."
   ]
  },
  {
   "cell_type": "markdown",
   "id": "bfba6436854813aa",
   "metadata": {},
   "source": [
    "### Symmetrische und Antisymmetrische Matrizen:\n",
    "- **Symmetrische Matrix**: Eine Matrix ist symmetrisch, wenn sie gleich ihrer transponierten Matrix ist (A = A^T).\n",
    "- **Antisymmetrische Matrix**: Eine Matrix ist antisymmetrisch, wenn die transponierte Matrix das negative der Originalmatrix ist (A = -A^T)."
   ]
  },
  {
   "cell_type": "code",
   "execution_count": 4,
   "id": "99c1de9280a4fdc5",
   "metadata": {},
   "outputs": [
    {
     "name": "stdout",
     "output_type": "stream",
     "text": [
      "Symmetrische Matrix:\n",
      " [[1 2]\n",
      " [2 1]]\n",
      "Antisymmetrische Matrix:\n",
      " [[ 0  2]\n",
      " [-2  0]]\n"
     ]
    }
   ],
   "source": [
    "# Symmetrische Matrix: A = A^T (Transponierte Matrix)\n",
    "symmetrische_matrix = np.array([[1, 2], [2, 1]])\n",
    "print(\"Symmetrische Matrix:\\n\", symmetrische_matrix)\n",
    "\n",
    "# Antisymmetrische Matrix: A = -A^T\n",
    "antisymmetrische_matrix = np.array([[0, 2], [-2, 0]])\n",
    "print(\"Antisymmetrische Matrix:\\n\", antisymmetrische_matrix)"
   ]
  },
  {
   "cell_type": "markdown",
   "id": "109288c82be73897",
   "metadata": {},
   "source": [
    "### Weitere Eigenschaften:\n",
    "- **Rang**: Der Rang einer Matrix gibt die Anzahl der linear unabhängigen Zeilen oder Spalten an.\n",
    "- **Determinante**: Eine Zahl, die Eigenschaften einer quadratischen Matrix beschreibt. Eine Matrix mit einer Determinante von 0 ist nicht invertierbar."
   ]
  },
  {
   "cell_type": "code",
   "execution_count": 5,
   "id": "7a926caf4cd0cc0d",
   "metadata": {},
   "outputs": [
    {
     "name": "stdout",
     "output_type": "stream",
     "text": [
      "Rang der Beispielmatrix: 2\n",
      "Determinante der Beispielmatrix: 0.0\n"
     ]
    }
   ],
   "source": [
    "# Der Rang einer Matrix gibt die Anzahl der linear unabhängigen Zeilen oder Spalten an.\n",
    "print(\"Rang der Beispielmatrix:\", np.linalg.matrix_rank(matrix))\n",
    "\n",
    "# Die Determinante einer Matrix gibt Informationen darüber, ob eine Matrix invertierbar ist.\n",
    "print(\"Determinante der Beispielmatrix:\", np.linalg.det(matrix))"
   ]
  },
  {
   "cell_type": "markdown",
   "id": "41def9e04a51404f",
   "metadata": {},
   "source": [
    "### Eigenwerte und Eigenvektoren:\n",
    "- **Eigenwerte**: Werte, die angeben, wie stark ein Eigenvektor beim Anwenden der Matrix gestreckt oder gestaucht wird.\n",
    "- **Eigenvektoren**: Richtungen, die durch die Matrix nicht verändert werden, außer durch Streckung oder Stauchung."
   ]
  },
  {
   "cell_type": "code",
   "execution_count": 6,
   "id": "ba761338d210ba46",
   "metadata": {},
   "outputs": [
    {
     "name": "stdout",
     "output_type": "stream",
     "text": [
      "Eigenwerte der symmetrischen Matrix: [ 3. -1.]\n",
      "Eigenvektoren der symmetrischen Matrix:\n",
      " [[ 0.70710678 -0.70710678]\n",
      " [ 0.70710678  0.70710678]]\n"
     ]
    }
   ],
   "source": [
    "# Eigenwerte und Eigenvektoren einer Matrix sind spezielle Vektoren und Skalare, die die Matrix charakterisieren.\n",
    "eigenwerte, eigenvektoren = np.linalg.eig(symmetrische_matrix)\n",
    "print(\"Eigenwerte der symmetrischen Matrix:\", eigenwerte)\n",
    "print(\"Eigenvektoren der symmetrischen Matrix:\\n\", eigenvektoren)"
   ]
  },
  {
   "cell_type": "markdown",
   "id": "c3b4cf222409278f",
   "metadata": {},
   "source": [
    "## 3. Relationen zwischen Matrizen\n",
    "Matrizen können gleich sein, wenn alle ihre Elemente übereinstimmen."
   ]
  },
  {
   "cell_type": "markdown",
   "id": "f00cc7d31577e024",
   "metadata": {},
   "source": [
    "### Relationen:\n",
    "- **Gleichheit von Matrizen**: Zwei Matrizen sind gleich, wenn alle ihre entsprechenden Elemente übereinstimmen.\n",
    "- **Kleiner**: Eine Matrix A ist kleiner als eine Matrix B, wenn alle Elemente von A kleiner als die entsprechenden Elemente von B sind."
   ]
  },
  {
   "cell_type": "code",
   "execution_count": 7,
   "id": "25744613259c2376",
   "metadata": {},
   "outputs": [
    {
     "name": "stdout",
     "output_type": "stream",
     "text": [
      "Ist matrix gleich matrix_2?: True\n",
      "Ist matrix_3 kleiner als matrix?: True\n"
     ]
    }
   ],
   "source": [
    "# Beispiel zur Gleichheit von Matrizen\n",
    "matrix_2 = np.array([[1, 2, 3], [4, 5, 6], [7, 8, 9]])\n",
    "print(\"Ist matrix gleich matrix_2?:\", np.array_equal(matrix, matrix_2))\n",
    "\n",
    "# Beispiel zur Überprüfung, ob eine Matrix kleiner ist\n",
    "matrix_3 = np.array([[0, 1, 2], [3, 4, 5], [6, 7, 8]])\n",
    "print(\"Ist matrix_3 kleiner als matrix?:\", np.all(matrix_3 < matrix))"
   ]
  },
  {
   "cell_type": "markdown",
   "id": "f2d69dadc7ed554e",
   "metadata": {},
   "source": [
    "## 4. Spezielle Matrizen\n",
    "Es gibt bestimmte Matrizen mit speziellen Eigenschaften, wie die Einheitsmatrix, die Nullmatrix oder die Diagonalmatrix."
   ]
  },
  {
   "cell_type": "markdown",
   "id": "ec58694ea771af54",
   "metadata": {},
   "source": [
    "### Spezielle Matrizen:\n",
    "- **Einheitsmatrix**: Eine quadratische Matrix, bei der alle Diagonalelemente 1 und alle anderen Elemente 0 sind.\n",
    "- **Nullmatrix**: Eine Matrix, bei der alle Elemente 0 sind.\n",
    "- **Diagonalmatrix**: Eine Matrix, bei der alle Elemente außerhalb der Hauptdiagonale 0 sind."
   ]
  },
  {
   "cell_type": "code",
   "execution_count": 8,
   "id": "9bcd4bff9d083c8",
   "metadata": {},
   "outputs": [
    {
     "name": "stdout",
     "output_type": "stream",
     "text": [
      "Einheitsmatrix (3x3):\n",
      " [[1. 0. 0.]\n",
      " [0. 1. 0.]\n",
      " [0. 0. 1.]]\n",
      "Nullmatrix (3x3):\n",
      " [[0. 0. 0.]\n",
      " [0. 0. 0.]\n",
      " [0. 0. 0.]]\n",
      "Diagonalmatrix (3x3):\n",
      " [[1 0 0]\n",
      " [0 2 0]\n",
      " [0 0 3]]\n"
     ]
    }
   ],
   "source": [
    "# Beispiele für spezielle Matrizen\n",
    "\n",
    "# Einheitsmatrix (Identitätsmatrix)\n",
    "einheitsmatrix = np.eye(3)\n",
    "print(\"Einheitsmatrix (3x3):\\n\", einheitsmatrix)\n",
    "\n",
    "# Nullmatrix\n",
    "nullmatrix = np.zeros((3, 3))\n",
    "print(\"Nullmatrix (3x3):\\n\", nullmatrix)\n",
    "\n",
    "# Diagonalmatrix\n",
    "diagonalmatrix = np.diag([1, 2, 3])\n",
    "print(\"Diagonalmatrix (3x3):\\n\", diagonalmatrix)"
   ]
  },
  {
   "cell_type": "markdown",
   "id": "d17ff64992927e86",
   "metadata": {},
   "source": [
    "## 5. Operationen auf Matrizen\n",
    "Matrizen können addiert, subtrahiert und multipliziert werden. Hier sind einige grundlegende Operationen:"
   ]
  },
  {
   "cell_type": "markdown",
   "id": "51796704bf1faeba",
   "metadata": {},
   "source": [
    "### Operationen:\n",
    "- **Matrizenaddition**: Zwei Matrizen werden addiert, indem die entsprechenden Elemente addiert werden.\n",
    "- **Skalarmultiplikation**: Jede Komponente der Matrix wird mit einem Skalar multipliziert.\n",
    "- **Matrizenmultiplikation**: Das Produkt zweier Matrizen wird durch Zeilen-Spalten-Multiplikation berechnet."
   ]
  },
  {
   "cell_type": "code",
   "execution_count": 9,
   "id": "526ce7e010a22c5e",
   "metadata": {},
   "outputs": [
    {
     "name": "stdout",
     "output_type": "stream",
     "text": [
      "Addition von Matrix A und B:\n",
      " [[ 6  8]\n",
      " [10 12]]\n",
      "Skalarmultiplikation von Matrix A mit 2:\n",
      " [[2 4]\n",
      " [6 8]]\n",
      "Multiplikation von Matrix A und B:\n",
      " [[19 22]\n",
      " [43 50]]\n"
     ]
    }
   ],
   "source": [
    "# Matrizenaddition\n",
    "matrix_A = np.array([[1, 2], [3, 4]])\n",
    "matrix_B = np.array([[5, 6], [7, 8]])\n",
    "matrix_add = matrix_A + matrix_B\n",
    "print(\"Addition von Matrix A und B:\\n\", matrix_add)\n",
    "\n",
    "# Skalarmultiplikation\n",
    "skalare_matrix = 2 * matrix_A\n",
    "print(\"Skalarmultiplikation von Matrix A mit 2:\\n\", skalare_matrix)\n",
    "\n",
    "# Matrizenmultiplikation\n",
    "matrix_mult = np.dot(matrix_A, matrix_B)\n",
    "print(\"Multiplikation von Matrix A und B:\\n\", matrix_mult)"
   ]
  },
  {
   "cell_type": "markdown",
   "id": "f5b77cd70cfaf919",
   "metadata": {},
   "source": [
    "## 6. Berechnung der Determinante\n",
    "Die Determinante einer Matrix kann auf verschiedene Weise berechnet werden."
   ]
  },
  {
   "cell_type": "markdown",
   "id": "e906f36401822c36",
   "metadata": {},
   "source": [
    "### Determinanten:\n",
    "- **Sarrus-Regel**: Eine spezielle Regel zur Berechnung der Determinante von 3x3-Matrizen.\n",
    "- **Entwicklungssatz von Laplace**: Eine Methode zur Berechnung der Determinante einer Matrix durch die Zerlegung in kleinere Matrizen."
   ]
  },
  {
   "cell_type": "code",
   "execution_count": 10,
   "id": "9402ffaf047aaf6",
   "metadata": {},
   "outputs": [
    {
     "name": "stdout",
     "output_type": "stream",
     "text": [
      "Matrix C:\n",
      " [[1 2 3]\n",
      " [4 5 6]\n",
      " [7 8 9]]\n",
      "Die Determinante von Matrix C: 0.0\n",
      "Die Determinante von Matrix D (2x2): -2\n"
     ]
    }
   ],
   "source": [
    "# Sarrus-Regel (für 3x3-Matrizen)\n",
    "matrix_C = np.array([[1, 2, 3], [4, 5, 6], [7, 8, 9]])\n",
    "print(\"Matrix C:\\n\", matrix_C)\n",
    "print(\"Die Determinante von Matrix C:\", np.linalg.det(matrix_C))\n",
    "\n",
    "# Entwicklungssatz von Laplace (hier für eine 2x2 Matrix)\n",
    "matrix_D = np.array([[1, 2], [3, 4]])\n",
    "det_D = matrix_D[0, 0] * matrix_D[1, 1] - matrix_D[0, 1] * matrix_D[1, 0]\n",
    "print(\"Die Determinante von Matrix D (2x2):\", det_D)"
   ]
  }
 ],
 "metadata": {
  "kernelspec": {
   "display_name": "Python 3 (ipykernel)",
   "language": "python",
   "name": "python3"
  },
  "language_info": {
   "codemirror_mode": {
    "name": "ipython",
    "version": 3
   },
   "file_extension": ".py",
   "mimetype": "text/x-python",
   "name": "python",
   "nbconvert_exporter": "python",
   "pygments_lexer": "ipython3",
   "version": "3.10.14"
  }
 },
 "nbformat": 4,
 "nbformat_minor": 5
}
